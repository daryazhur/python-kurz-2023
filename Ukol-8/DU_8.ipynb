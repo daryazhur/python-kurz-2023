{
 "cells": [
  {
   "attachments": {},
   "cell_type": "markdown",
   "metadata": {},
   "source": [
    "Stáhni si dataset, který obsahuje seznam zvířat k adopci v ZOO Praha. Zdroj dat je Národní katalog otevřených dat.\n",
    "\n",
    "* Data si načti pomocí metody `pandas.read_csv()`. Pozor, nastav oddělovač na znak středníku. Využij parametr `sep`.\n",
    "* Seznam se s daty. Kolik má tabulka řádek a sloupců? Jak se sloupce jmenují?\n",
    "* Které zvíře se nachází na záznamu s indexem 34? Vypiš název tohoto zvířete v češtině a v angličtině."
   ]
  },
  {
   "attachments": {},
   "cell_type": "markdown",
   "metadata": {},
   "source": [
    "* Data si načti pomocí metody `pandas.read_csv()`. Pozor, nastav oddělovač na znak středníku. Využij parametr `sep`."
   ]
  },
  {
   "cell_type": "code",
   "execution_count": 17,
   "metadata": {},
   "outputs": [
    {
     "data": {
      "text/html": [
       "<div>\n",
       "<style scoped>\n",
       "    .dataframe tbody tr th:only-of-type {\n",
       "        vertical-align: middle;\n",
       "    }\n",
       "\n",
       "    .dataframe tbody tr th {\n",
       "        vertical-align: top;\n",
       "    }\n",
       "\n",
       "    .dataframe thead th {\n",
       "        text-align: right;\n",
       "    }\n",
       "</style>\n",
       "<table border=\"1\" class=\"dataframe\">\n",
       "  <thead>\n",
       "    <tr style=\"text-align: right;\">\n",
       "      <th></th>\n",
       "      <th>id</th>\n",
       "      <th>nazev_cz</th>\n",
       "      <th>nazev_en</th>\n",
       "      <th>trida_cz</th>\n",
       "      <th>cena</th>\n",
       "      <th>k_prohlidce</th>\n",
       "    </tr>\n",
       "  </thead>\n",
       "  <tbody>\n",
       "    <tr>\n",
       "      <th>0</th>\n",
       "      <td>7</td>\n",
       "      <td>Šváb syčivý</td>\n",
       "      <td>Madagascar giant cockroach</td>\n",
       "      <td>Bezobratlí</td>\n",
       "      <td>1000</td>\n",
       "      <td>1</td>\n",
       "    </tr>\n",
       "    <tr>\n",
       "      <th>1</th>\n",
       "      <td>8</td>\n",
       "      <td>Pakobylka okřídlená</td>\n",
       "      <td>Pink-winged stick insect</td>\n",
       "      <td>Bezobratlí</td>\n",
       "      <td>1000</td>\n",
       "      <td>1</td>\n",
       "    </tr>\n",
       "    <tr>\n",
       "      <th>2</th>\n",
       "      <td>16</td>\n",
       "      <td>Tayra</td>\n",
       "      <td>Tayra</td>\n",
       "      <td>Savci</td>\n",
       "      <td>5000</td>\n",
       "      <td>1</td>\n",
       "    </tr>\n",
       "    <tr>\n",
       "      <th>3</th>\n",
       "      <td>35</td>\n",
       "      <td>Kajmanka supí</td>\n",
       "      <td>Alligator snapping turtle</td>\n",
       "      <td>Plazi</td>\n",
       "      <td>2000</td>\n",
       "      <td>1</td>\n",
       "    </tr>\n",
       "    <tr>\n",
       "      <th>4</th>\n",
       "      <td>37</td>\n",
       "      <td>Želva žlutočelá</td>\n",
       "      <td>Indochinese box turtle</td>\n",
       "      <td>Plazi</td>\n",
       "      <td>1000</td>\n",
       "      <td>1</td>\n",
       "    </tr>\n",
       "    <tr>\n",
       "      <th>...</th>\n",
       "      <td>...</td>\n",
       "      <td>...</td>\n",
       "      <td>...</td>\n",
       "      <td>...</td>\n",
       "      <td>...</td>\n",
       "      <td>...</td>\n",
       "    </tr>\n",
       "    <tr>\n",
       "      <th>508</th>\n",
       "      <td>1417</td>\n",
       "      <td>Rosnice šalamounská</td>\n",
       "      <td></td>\n",
       "      <td>Obojživelníci</td>\n",
       "      <td>1000</td>\n",
       "      <td>1</td>\n",
       "    </tr>\n",
       "    <tr>\n",
       "      <th>509</th>\n",
       "      <td>1418</td>\n",
       "      <td>Létavka obecná</td>\n",
       "      <td></td>\n",
       "      <td>Obojživelníci</td>\n",
       "      <td>1000</td>\n",
       "      <td>1</td>\n",
       "    </tr>\n",
       "    <tr>\n",
       "      <th>510</th>\n",
       "      <td>1419</td>\n",
       "      <td>Bažant paví</td>\n",
       "      <td></td>\n",
       "      <td>Ptáci</td>\n",
       "      <td>1000</td>\n",
       "      <td>1</td>\n",
       "    </tr>\n",
       "    <tr>\n",
       "      <th>511</th>\n",
       "      <td>1420</td>\n",
       "      <td>Sojkovec rezavouchý</td>\n",
       "      <td></td>\n",
       "      <td>Ptáci</td>\n",
       "      <td>1000</td>\n",
       "      <td>1</td>\n",
       "    </tr>\n",
       "    <tr>\n",
       "      <th>512</th>\n",
       "      <td>1421</td>\n",
       "      <td>Kachnice kaštanová</td>\n",
       "      <td></td>\n",
       "      <td>Ptáci</td>\n",
       "      <td>1000</td>\n",
       "      <td>1</td>\n",
       "    </tr>\n",
       "  </tbody>\n",
       "</table>\n",
       "<p>513 rows × 6 columns</p>\n",
       "</div>"
      ],
      "text/plain": [
       "       id             nazev_cz                     nazev_en       trida_cz   \n",
       "0       7          Šváb syčivý  Madagascar giant cockroach      Bezobratlí  \\\n",
       "1       8  Pakobylka okřídlená     Pink-winged stick insect     Bezobratlí   \n",
       "2      16                Tayra                        Tayra          Savci   \n",
       "3      35        Kajmanka supí    Alligator snapping turtle          Plazi   \n",
       "4      37      Želva žlutočelá       Indochinese box turtle          Plazi   \n",
       "..    ...                  ...                          ...            ...   \n",
       "508  1417  Rosnice šalamounská                               Obojživelníci   \n",
       "509  1418       Létavka obecná                               Obojživelníci   \n",
       "510  1419          Bažant paví                                       Ptáci   \n",
       "511  1420  Sojkovec rezavouchý                                       Ptáci   \n",
       "512  1421   Kachnice kaštanová                                       Ptáci   \n",
       "\n",
       "     cena  k_prohlidce  \n",
       "0    1000            1  \n",
       "1    1000            1  \n",
       "2    5000            1  \n",
       "3    2000            1  \n",
       "4    1000            1  \n",
       "..    ...          ...  \n",
       "508  1000            1  \n",
       "509  1000            1  \n",
       "510  1000            1  \n",
       "511  1000            1  \n",
       "512  1000            1  \n",
       "\n",
       "[513 rows x 6 columns]"
      ]
     },
     "execution_count": 17,
     "metadata": {},
     "output_type": "execute_result"
    }
   ],
   "source": [
    "import pandas\n",
    "data = pandas.read_csv('adopce-zvirat.csv', sep= ';')\n",
    "data"
   ]
  },
  {
   "attachments": {},
   "cell_type": "markdown",
   "metadata": {},
   "source": [
    "* Seznam se s daty. Kolik má tabulka řádek a sloupců? Jak se sloupce jmenují?"
   ]
  },
  {
   "cell_type": "code",
   "execution_count": 18,
   "metadata": {},
   "outputs": [
    {
     "data": {
      "text/plain": [
       "(513, 6)"
      ]
     },
     "execution_count": 18,
     "metadata": {},
     "output_type": "execute_result"
    }
   ],
   "source": [
    "data.shape # poce radku a sloupcu"
   ]
  },
  {
   "cell_type": "code",
   "execution_count": 19,
   "metadata": {},
   "outputs": [
    {
     "data": {
      "text/plain": [
       "Index(['id', 'nazev_cz', 'nazev_en', 'trida_cz', 'cena', 'k_prohlidce'], dtype='object')"
      ]
     },
     "execution_count": 19,
     "metadata": {},
     "output_type": "execute_result"
    }
   ],
   "source": [
    "data.columns #nazev sloupcu"
   ]
  },
  {
   "attachments": {},
   "cell_type": "markdown",
   "metadata": {},
   "source": [
    "* Které zvíře se nachází na záznamu s indexem 34? Vypiš název tohoto zvířete v češtině a v angličtině."
   ]
  },
  {
   "cell_type": "code",
   "execution_count": 34,
   "metadata": {},
   "outputs": [
    {
     "data": {
      "text/plain": [
       "nazev_cz       Ibis rudý\n",
       "nazev_en    Scarlet ibis\n",
       "Name: 33, dtype: object"
      ]
     },
     "execution_count": 34,
     "metadata": {},
     "output_type": "execute_result"
    }
   ],
   "source": [
    "data.iloc[33][['nazev_cz','nazev_en']]"
   ]
  }
 ],
 "metadata": {
  "kernelspec": {
   "display_name": "Python 3",
   "language": "python",
   "name": "python3"
  },
  "language_info": {
   "codemirror_mode": {
    "name": "ipython",
    "version": 3
   },
   "file_extension": ".py",
   "mimetype": "text/x-python",
   "name": "python",
   "nbconvert_exporter": "python",
   "pygments_lexer": "ipython3",
   "version": "3.9.10"
  },
  "orig_nbformat": 4
 },
 "nbformat": 4,
 "nbformat_minor": 2
}
